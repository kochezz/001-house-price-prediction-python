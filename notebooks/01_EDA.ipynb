{
 "cells": [
  {
   "cell_type": "markdown",
   "id": "95cbbba6",
   "metadata": {},
   "source": [
    "# Predictive Modelling using MLR"
   ]
  },
  {
   "cell_type": "markdown",
   "id": "f8f25aa2",
   "metadata": {},
   "source": [
    "BACKGROUND: \n",
    "\n",
    "The data for modeling contains information on Selling price of each house in million Rs. It also contains Carpet area in square feet, Distance from nearest metro station and Number of schools within 2 km distance. "
   ]
  },
  {
   "cell_type": "markdown",
   "id": "c5492c3b",
   "metadata": {},
   "source": [
    "Step 1: Import House Price Data. Check the structure of the data"
   ]
  },
  {
   "cell_type": "code",
   "execution_count": 1,
   "id": "a2e893b5",
   "metadata": {},
   "outputs": [],
   "source": [
    "# Import Libraries\n",
    "\n",
    "import pandas as pd\n",
    "import numpy as np\n",
    "import matplotlib.pyplot as plt\n",
    "import seaborn as sns\n",
    "import statsmodels.api as sm\n",
    "import scipy as sp\n",
    "import statsmodels.formula.api as smf\n",
    "import statsmodels.stats.api as sms\n",
    "import statsmodels.stats.proportion as ssp\n",
    "from sklearn.model_selection import train_test_split\n",
    "from sklearn.linear_model import LinearRegression\n",
    "from sklearn.linear_model import LogisticRegression\n",
    "from sklearn.model_selection import cross_val_score\n",
    "from sklearn import linear_model\n",
    "from statsmodels.stats.outliers_influence import variance_inflation_factor\n",
    "import patsy\n",
    "from math import sqrt\n",
    "import os\n",
    "os.chdir(r\"C:\\Users\\willi\\GitHub\\FPM_Assignment_PY\\data\\raw\")"
   ]
  },
  {
   "cell_type": "code",
   "execution_count": 2,
   "id": "4a7023df",
   "metadata": {},
   "outputs": [],
   "source": [
    "# Set Display Options\n",
    "\n",
    "pd.set_option('display.max_columns', None)\n",
    "pd.set_option('display.precision', 2)"
   ]
  },
  {
   "cell_type": "markdown",
   "id": "cffcf6e8",
   "metadata": {},
   "source": [
    "Load Dataset"
   ]
  },
  {
   "cell_type": "code",
   "execution_count": 3,
   "id": "a9d911e4",
   "metadata": {},
   "outputs": [
    {
     "name": "stdout",
     "output_type": "stream",
     "text": [
      "✅ Dataset Loaded Successfully\n",
      "Data Shape: (198, 5)\n"
     ]
    },
    {
     "data": {
      "application/vnd.microsoft.datawrangler.viewer.v0+json": {
       "columns": [
        {
         "name": "index",
         "rawType": "int64",
         "type": "integer"
        },
        {
         "name": "Houseid",
         "rawType": "int64",
         "type": "integer"
        },
        {
         "name": "Price",
         "rawType": "float64",
         "type": "float"
        },
        {
         "name": "Area",
         "rawType": "int64",
         "type": "integer"
        },
        {
         "name": "Distance",
         "rawType": "float64",
         "type": "float"
        },
        {
         "name": "Schools",
         "rawType": "int64",
         "type": "integer"
        }
       ],
       "conversionMethod": "pd.DataFrame",
       "ref": "efee0026-c60e-42dd-bf24-28a8135fc649",
       "rows": [
        [
         "0",
         "1",
         "24.74",
         "1036",
         "3.22",
         "2"
        ],
        [
         "1",
         "2",
         "20.15",
         "1030",
         "4.33",
         "3"
        ],
        [
         "2",
         "3",
         "25.98",
         "1046",
         "1.94",
         "3"
        ],
        [
         "3",
         "4",
         "20.1",
         "950",
         "2.45",
         "2"
        ],
        [
         "4",
         "5",
         "23.03",
         "952",
         "2.47",
         "2"
        ]
       ],
       "shape": {
        "columns": 5,
        "rows": 5
       }
      },
      "text/html": [
       "<div>\n",
       "<style scoped>\n",
       "    .dataframe tbody tr th:only-of-type {\n",
       "        vertical-align: middle;\n",
       "    }\n",
       "\n",
       "    .dataframe tbody tr th {\n",
       "        vertical-align: top;\n",
       "    }\n",
       "\n",
       "    .dataframe thead th {\n",
       "        text-align: right;\n",
       "    }\n",
       "</style>\n",
       "<table border=\"1\" class=\"dataframe\">\n",
       "  <thead>\n",
       "    <tr style=\"text-align: right;\">\n",
       "      <th></th>\n",
       "      <th>Houseid</th>\n",
       "      <th>Price</th>\n",
       "      <th>Area</th>\n",
       "      <th>Distance</th>\n",
       "      <th>Schools</th>\n",
       "    </tr>\n",
       "  </thead>\n",
       "  <tbody>\n",
       "    <tr>\n",
       "      <th>0</th>\n",
       "      <td>1</td>\n",
       "      <td>24.74</td>\n",
       "      <td>1036</td>\n",
       "      <td>3.22</td>\n",
       "      <td>2</td>\n",
       "    </tr>\n",
       "    <tr>\n",
       "      <th>1</th>\n",
       "      <td>2</td>\n",
       "      <td>20.15</td>\n",
       "      <td>1030</td>\n",
       "      <td>4.33</td>\n",
       "      <td>3</td>\n",
       "    </tr>\n",
       "    <tr>\n",
       "      <th>2</th>\n",
       "      <td>3</td>\n",
       "      <td>25.98</td>\n",
       "      <td>1046</td>\n",
       "      <td>1.94</td>\n",
       "      <td>3</td>\n",
       "    </tr>\n",
       "    <tr>\n",
       "      <th>3</th>\n",
       "      <td>4</td>\n",
       "      <td>20.10</td>\n",
       "      <td>950</td>\n",
       "      <td>2.45</td>\n",
       "      <td>2</td>\n",
       "    </tr>\n",
       "    <tr>\n",
       "      <th>4</th>\n",
       "      <td>5</td>\n",
       "      <td>23.03</td>\n",
       "      <td>952</td>\n",
       "      <td>2.47</td>\n",
       "      <td>2</td>\n",
       "    </tr>\n",
       "  </tbody>\n",
       "</table>\n",
       "</div>"
      ],
      "text/plain": [
       "   Houseid  Price  Area  Distance  Schools\n",
       "0        1  24.74  1036      3.22        2\n",
       "1        2  20.15  1030      4.33        3\n",
       "2        3  25.98  1046      1.94        3\n",
       "3        4  20.10   950      2.45        2\n",
       "4        5  23.03   952      2.47        2"
      ]
     },
     "execution_count": 3,
     "metadata": {},
     "output_type": "execute_result"
    }
   ],
   "source": [
    "# Import Data\n",
    "hse_price = pd.read_csv(\"House Price Data.csv\")\n",
    "print(\"✅ Dataset Loaded Successfully\")\n",
    "print(\"Data Shape:\",hse_price.shape)\n",
    "hse_price.head(5)"
   ]
  },
  {
   "cell_type": "markdown",
   "id": "53d5fa79",
   "metadata": {},
   "source": [
    "Clean the Data"
   ]
  },
  {
   "cell_type": "code",
   "execution_count": 4,
   "id": "36d43062",
   "metadata": {},
   "outputs": [
    {
     "name": "stdout",
     "output_type": "stream",
     "text": [
      "✅ Unnecessary Columns Dropped\n"
     ]
    }
   ],
   "source": [
    "# Drop Unnecessary Columns: Houseid is not required for analysis\n",
    "hse_price.drop(columns=['Houseid'], inplace=True)\n",
    "print(\"✅ Unnecessary Columns Dropped\")"
   ]
  },
  {
   "cell_type": "code",
   "execution_count": 8,
   "id": "b8b10060",
   "metadata": {},
   "outputs": [
    {
     "name": "stdout",
     "output_type": "stream",
     "text": [
      "price       0\n",
      "area        0\n",
      "distance    0\n",
      "schools     0\n",
      "dtype: int64\n",
      "✅ Missing Values Checked\n"
     ]
    }
   ],
   "source": [
    "# Check for Missing Values\n",
    "print(hse_price.isnull().sum())\n",
    "print(\"✅ Missing Values Checked\")"
   ]
  },
  {
   "cell_type": "code",
   "execution_count": 5,
   "id": "b05f770d",
   "metadata": {},
   "outputs": [
    {
     "name": "stdout",
     "output_type": "stream",
     "text": [
      "✅ Column Names Lowercased\n"
     ]
    }
   ],
   "source": [
    "# Rename columns to lower case\n",
    "\n",
    "hse_price.columns = hse_price.columns.str.lower()\n",
    "print(\"✅ Column Names Lowercased\")"
   ]
  },
  {
   "cell_type": "code",
   "execution_count": 6,
   "id": "0514c7a0",
   "metadata": {},
   "outputs": [
    {
     "data": {
      "application/vnd.microsoft.datawrangler.viewer.v0+json": {
       "columns": [
        {
         "name": "index",
         "rawType": "int64",
         "type": "integer"
        },
        {
         "name": "price",
         "rawType": "float64",
         "type": "float"
        },
        {
         "name": "area",
         "rawType": "int64",
         "type": "integer"
        },
        {
         "name": "distance",
         "rawType": "float64",
         "type": "float"
        },
        {
         "name": "schools",
         "rawType": "int64",
         "type": "integer"
        }
       ],
       "conversionMethod": "pd.DataFrame",
       "ref": "7bcce33d-761e-4bbf-b0f0-3bec5ec33f68",
       "rows": [
        [
         "0",
         "24.74",
         "1036",
         "3.22",
         "2"
        ],
        [
         "1",
         "20.15",
         "1030",
         "4.33",
         "3"
        ],
        [
         "2",
         "25.98",
         "1046",
         "1.94",
         "3"
        ],
        [
         "3",
         "20.1",
         "950",
         "2.45",
         "2"
        ],
        [
         "4",
         "23.03",
         "952",
         "2.47",
         "2"
        ],
        [
         "5",
         "21.02",
         "967",
         "3.64",
         "2"
        ],
        [
         "6",
         "17.44",
         "825",
         "1.49",
         "2"
        ],
        [
         "7",
         "31.77",
         "1162",
         "2.26",
         "3"
        ],
        [
         "8",
         "27.6",
         "1066",
         "1.93",
         "3"
        ],
        [
         "9",
         "27.16",
         "1084",
         "1.47",
         "2"
        ]
       ],
       "shape": {
        "columns": 4,
        "rows": 10
       }
      },
      "text/html": [
       "<div>\n",
       "<style scoped>\n",
       "    .dataframe tbody tr th:only-of-type {\n",
       "        vertical-align: middle;\n",
       "    }\n",
       "\n",
       "    .dataframe tbody tr th {\n",
       "        vertical-align: top;\n",
       "    }\n",
       "\n",
       "    .dataframe thead th {\n",
       "        text-align: right;\n",
       "    }\n",
       "</style>\n",
       "<table border=\"1\" class=\"dataframe\">\n",
       "  <thead>\n",
       "    <tr style=\"text-align: right;\">\n",
       "      <th></th>\n",
       "      <th>price</th>\n",
       "      <th>area</th>\n",
       "      <th>distance</th>\n",
       "      <th>schools</th>\n",
       "    </tr>\n",
       "  </thead>\n",
       "  <tbody>\n",
       "    <tr>\n",
       "      <th>0</th>\n",
       "      <td>24.74</td>\n",
       "      <td>1036</td>\n",
       "      <td>3.22</td>\n",
       "      <td>2</td>\n",
       "    </tr>\n",
       "    <tr>\n",
       "      <th>1</th>\n",
       "      <td>20.15</td>\n",
       "      <td>1030</td>\n",
       "      <td>4.33</td>\n",
       "      <td>3</td>\n",
       "    </tr>\n",
       "    <tr>\n",
       "      <th>2</th>\n",
       "      <td>25.98</td>\n",
       "      <td>1046</td>\n",
       "      <td>1.94</td>\n",
       "      <td>3</td>\n",
       "    </tr>\n",
       "    <tr>\n",
       "      <th>3</th>\n",
       "      <td>20.10</td>\n",
       "      <td>950</td>\n",
       "      <td>2.45</td>\n",
       "      <td>2</td>\n",
       "    </tr>\n",
       "    <tr>\n",
       "      <th>4</th>\n",
       "      <td>23.03</td>\n",
       "      <td>952</td>\n",
       "      <td>2.47</td>\n",
       "      <td>2</td>\n",
       "    </tr>\n",
       "    <tr>\n",
       "      <th>5</th>\n",
       "      <td>21.02</td>\n",
       "      <td>967</td>\n",
       "      <td>3.64</td>\n",
       "      <td>2</td>\n",
       "    </tr>\n",
       "    <tr>\n",
       "      <th>6</th>\n",
       "      <td>17.44</td>\n",
       "      <td>825</td>\n",
       "      <td>1.49</td>\n",
       "      <td>2</td>\n",
       "    </tr>\n",
       "    <tr>\n",
       "      <th>7</th>\n",
       "      <td>31.77</td>\n",
       "      <td>1162</td>\n",
       "      <td>2.26</td>\n",
       "      <td>3</td>\n",
       "    </tr>\n",
       "    <tr>\n",
       "      <th>8</th>\n",
       "      <td>27.60</td>\n",
       "      <td>1066</td>\n",
       "      <td>1.93</td>\n",
       "      <td>3</td>\n",
       "    </tr>\n",
       "    <tr>\n",
       "      <th>9</th>\n",
       "      <td>27.16</td>\n",
       "      <td>1084</td>\n",
       "      <td>1.47</td>\n",
       "      <td>2</td>\n",
       "    </tr>\n",
       "  </tbody>\n",
       "</table>\n",
       "</div>"
      ],
      "text/plain": [
       "   price  area  distance  schools\n",
       "0  24.74  1036      3.22        2\n",
       "1  20.15  1030      4.33        3\n",
       "2  25.98  1046      1.94        3\n",
       "3  20.10   950      2.45        2\n",
       "4  23.03   952      2.47        2\n",
       "5  21.02   967      3.64        2\n",
       "6  17.44   825      1.49        2\n",
       "7  31.77  1162      2.26        3\n",
       "8  27.60  1066      1.93        3\n",
       "9  27.16  1084      1.47        2"
      ]
     },
     "execution_count": 6,
     "metadata": {},
     "output_type": "execute_result"
    }
   ],
   "source": [
    "hse_price.head(10)"
   ]
  },
  {
   "cell_type": "code",
   "execution_count": 9,
   "id": "4cadcc96",
   "metadata": {},
   "outputs": [
    {
     "name": "stdout",
     "output_type": "stream",
     "text": [
      "✅ Cleaned Data Saved to Processed Folder\n"
     ]
    }
   ],
   "source": [
    "# Save cleaned data to processed folder\n",
    "hse_price.to_csv(r\"C:\\Users\\willi\\GitHub\\FPM_Assignment_PY\\data\\processed\\hse_price_cleaned.csv\", index=False) \n",
    "print(\"✅ Cleaned Data Saved to Processed Folder\") "
   ]
  },
  {
   "cell_type": "markdown",
   "id": "7340c384",
   "metadata": {},
   "source": [
    "Step 2: Split the data into Training (80%) and Testing (20%) data sets\n"
   ]
  },
  {
   "cell_type": "code",
   "execution_count": 10,
   "id": "efa5c7ab",
   "metadata": {},
   "outputs": [],
   "source": [
    "# Import Libraries\n",
    "import pandas as pd\n",
    "import numpy as np  \n",
    "from sklearn.model_selection import train_test_split\n",
    "import os\n",
    "os.chdir(r\"C:\\Users\\willi\\GitHub\\FPM_Assignment_PY\\data\\processed\")\n"
   ]
  },
  {
   "cell_type": "code",
   "execution_count": 11,
   "id": "a857bbe5",
   "metadata": {},
   "outputs": [
    {
     "name": "stdout",
     "output_type": "stream",
     "text": [
      "✅ Dataset Loaded Successfully\n"
     ]
    },
    {
     "data": {
      "application/vnd.microsoft.datawrangler.viewer.v0+json": {
       "columns": [
        {
         "name": "index",
         "rawType": "int64",
         "type": "integer"
        },
        {
         "name": "price",
         "rawType": "float64",
         "type": "float"
        },
        {
         "name": "area",
         "rawType": "int64",
         "type": "integer"
        },
        {
         "name": "distance",
         "rawType": "float64",
         "type": "float"
        },
        {
         "name": "schools",
         "rawType": "int64",
         "type": "integer"
        }
       ],
       "conversionMethod": "pd.DataFrame",
       "ref": "e8e0cb45-7f83-4d99-85a1-48a5d9bf3014",
       "rows": [
        [
         "0",
         "24.74",
         "1036",
         "3.22",
         "2"
        ],
        [
         "1",
         "20.15",
         "1030",
         "4.33",
         "3"
        ],
        [
         "2",
         "25.98",
         "1046",
         "1.94",
         "3"
        ],
        [
         "3",
         "20.1",
         "950",
         "2.45",
         "2"
        ],
        [
         "4",
         "23.03",
         "952",
         "2.47",
         "2"
        ],
        [
         "5",
         "21.02",
         "967",
         "3.64",
         "2"
        ],
        [
         "6",
         "17.44",
         "825",
         "1.49",
         "2"
        ],
        [
         "7",
         "31.77",
         "1162",
         "2.26",
         "3"
        ],
        [
         "8",
         "27.6",
         "1066",
         "1.93",
         "3"
        ],
        [
         "9",
         "27.16",
         "1084",
         "1.47",
         "2"
        ]
       ],
       "shape": {
        "columns": 4,
        "rows": 10
       }
      },
      "text/html": [
       "<div>\n",
       "<style scoped>\n",
       "    .dataframe tbody tr th:only-of-type {\n",
       "        vertical-align: middle;\n",
       "    }\n",
       "\n",
       "    .dataframe tbody tr th {\n",
       "        vertical-align: top;\n",
       "    }\n",
       "\n",
       "    .dataframe thead th {\n",
       "        text-align: right;\n",
       "    }\n",
       "</style>\n",
       "<table border=\"1\" class=\"dataframe\">\n",
       "  <thead>\n",
       "    <tr style=\"text-align: right;\">\n",
       "      <th></th>\n",
       "      <th>price</th>\n",
       "      <th>area</th>\n",
       "      <th>distance</th>\n",
       "      <th>schools</th>\n",
       "    </tr>\n",
       "  </thead>\n",
       "  <tbody>\n",
       "    <tr>\n",
       "      <th>0</th>\n",
       "      <td>24.74</td>\n",
       "      <td>1036</td>\n",
       "      <td>3.22</td>\n",
       "      <td>2</td>\n",
       "    </tr>\n",
       "    <tr>\n",
       "      <th>1</th>\n",
       "      <td>20.15</td>\n",
       "      <td>1030</td>\n",
       "      <td>4.33</td>\n",
       "      <td>3</td>\n",
       "    </tr>\n",
       "    <tr>\n",
       "      <th>2</th>\n",
       "      <td>25.98</td>\n",
       "      <td>1046</td>\n",
       "      <td>1.94</td>\n",
       "      <td>3</td>\n",
       "    </tr>\n",
       "    <tr>\n",
       "      <th>3</th>\n",
       "      <td>20.10</td>\n",
       "      <td>950</td>\n",
       "      <td>2.45</td>\n",
       "      <td>2</td>\n",
       "    </tr>\n",
       "    <tr>\n",
       "      <th>4</th>\n",
       "      <td>23.03</td>\n",
       "      <td>952</td>\n",
       "      <td>2.47</td>\n",
       "      <td>2</td>\n",
       "    </tr>\n",
       "    <tr>\n",
       "      <th>5</th>\n",
       "      <td>21.02</td>\n",
       "      <td>967</td>\n",
       "      <td>3.64</td>\n",
       "      <td>2</td>\n",
       "    </tr>\n",
       "    <tr>\n",
       "      <th>6</th>\n",
       "      <td>17.44</td>\n",
       "      <td>825</td>\n",
       "      <td>1.49</td>\n",
       "      <td>2</td>\n",
       "    </tr>\n",
       "    <tr>\n",
       "      <th>7</th>\n",
       "      <td>31.77</td>\n",
       "      <td>1162</td>\n",
       "      <td>2.26</td>\n",
       "      <td>3</td>\n",
       "    </tr>\n",
       "    <tr>\n",
       "      <th>8</th>\n",
       "      <td>27.60</td>\n",
       "      <td>1066</td>\n",
       "      <td>1.93</td>\n",
       "      <td>3</td>\n",
       "    </tr>\n",
       "    <tr>\n",
       "      <th>9</th>\n",
       "      <td>27.16</td>\n",
       "      <td>1084</td>\n",
       "      <td>1.47</td>\n",
       "      <td>2</td>\n",
       "    </tr>\n",
       "  </tbody>\n",
       "</table>\n",
       "</div>"
      ],
      "text/plain": [
       "   price  area  distance  schools\n",
       "0  24.74  1036      3.22        2\n",
       "1  20.15  1030      4.33        3\n",
       "2  25.98  1046      1.94        3\n",
       "3  20.10   950      2.45        2\n",
       "4  23.03   952      2.47        2\n",
       "5  21.02   967      3.64        2\n",
       "6  17.44   825      1.49        2\n",
       "7  31.77  1162      2.26        3\n",
       "8  27.60  1066      1.93        3\n",
       "9  27.16  1084      1.47        2"
      ]
     },
     "execution_count": 11,
     "metadata": {},
     "output_type": "execute_result"
    }
   ],
   "source": [
    "# Load Cleaned Data\n",
    "hse_prices_cleaned = pd.read_csv(\"hse_price_cleaned.csv\")\n",
    "print(\"✅ Dataset Loaded Successfully\")\n",
    "\n",
    "hse_prices_cleaned.head(10)"
   ]
  },
  {
   "cell_type": "code",
   "execution_count": 12,
   "id": "86ab919a",
   "metadata": {},
   "outputs": [],
   "source": [
    "# Perform Data Splitting\n",
    "# Define the predictors and the target variable\n",
    "X = hse_prices_cleaned.drop(columns=['price'])  \n",
    "y = hse_prices_cleaned['price']"
   ]
  },
  {
   "cell_type": "code",
   "execution_count": 13,
   "id": "d31fa5ef",
   "metadata": {},
   "outputs": [],
   "source": [
    "# 80/20 Train-Test Split\n",
    "X_train, X_test, y_train, y_test = train_test_split(X, y, test_size=0.2, random_state=42)"
   ]
  },
  {
   "cell_type": "code",
   "execution_count": 14,
   "id": "3c4b0b6d",
   "metadata": {},
   "outputs": [
    {
     "name": "stdout",
     "output_type": "stream",
     "text": [
      "X_train shape: (158, 3)\n",
      "X_test shape: (40, 3)\n"
     ]
    }
   ],
   "source": [
    "# Confirm shape of the splits\n",
    "print(\"X_train shape:\", X_train.shape)\n",
    "print(\"X_test shape:\", X_test.shape)"
   ]
  },
  {
   "cell_type": "code",
   "execution_count": 15,
   "id": "05c2dc07",
   "metadata": {},
   "outputs": [
    {
     "name": "stdout",
     "output_type": "stream",
     "text": [
      "✅ Data Splits Saved to: data/processed\n"
     ]
    }
   ],
   "source": [
    "# Save the splits to CSV files\n",
    "X_train.to_csv(\"X_train.csv\", index=False)\n",
    "X_test.to_csv(\"X_test.csv\", index=False)    \n",
    "y_train.to_csv(\"y_train.csv\", index=False)\n",
    "y_test.to_csv(\"y_test.csv\", index=False)\n",
    "print(\"✅ Data Splits Saved to: data/processed\")\n",
    "\n"
   ]
  }
 ],
 "metadata": {
  "kernelspec": {
   "display_name": "ds-env",
   "language": "python",
   "name": "python3"
  },
  "language_info": {
   "codemirror_mode": {
    "name": "ipython",
    "version": 3
   },
   "file_extension": ".py",
   "mimetype": "text/x-python",
   "name": "python",
   "nbconvert_exporter": "python",
   "pygments_lexer": "ipython3",
   "version": "3.10.16"
  }
 },
 "nbformat": 4,
 "nbformat_minor": 5
}
