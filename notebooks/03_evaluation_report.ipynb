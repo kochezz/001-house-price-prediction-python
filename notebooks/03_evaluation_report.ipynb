{
 "cells": [
  {
   "cell_type": "code",
   "execution_count": 1,
   "id": "827a1d4a",
   "metadata": {},
   "outputs": [],
   "source": [
    "# 📌 House Price Prediction – Evaluation Report\n",
    "# Author: William Chenecho Phiri\n",
    "# Notebook: 03_Evaluation_Report.ipynb\n",
    "\n",
    "import pandas as pd\n",
    "import matplotlib.pyplot as plt\n",
    "import seaborn as sns\n",
    "import joblib\n",
    "\n",
    "from sklearn.metrics import mean_squared_error\n",
    "import numpy as np\n"
   ]
  },
  {
   "cell_type": "code",
   "execution_count": 2,
   "id": "00c21ded",
   "metadata": {},
   "outputs": [
    {
     "name": "stdout",
     "output_type": "stream",
     "text": [
      "                            OLS Regression Results                            \n",
      "==============================================================================\n",
      "Dep. Variable:                  price   R-squared:                       0.808\n",
      "Model:                            OLS   Adj. R-squared:                  0.804\n",
      "Method:                 Least Squares   F-statistic:                     215.9\n",
      "Date:                Tue, 15 Apr 2025   Prob (F-statistic):           6.08e-55\n",
      "Time:                        22:59:09   Log-Likelihood:                -348.18\n",
      "No. Observations:                 158   AIC:                             704.4\n",
      "Df Residuals:                     154   BIC:                             716.6\n",
      "Df Model:                           3                                         \n",
      "Covariance Type:            nonrobust                                         \n",
      "==============================================================================\n",
      "                 coef    std err          t      P>|t|      [0.025      0.975]\n",
      "------------------------------------------------------------------------------\n",
      "Intercept     -9.5704      1.935     -4.947      0.000     -13.392      -5.748\n",
      "area           0.0343      0.002     14.867      0.000       0.030       0.039\n",
      "distance      -1.8737      0.178    -10.552      0.000      -2.224      -1.523\n",
      "schools        1.4379      0.447      3.216      0.002       0.555       2.321\n",
      "==============================================================================\n",
      "Omnibus:                       13.376   Durbin-Watson:                   2.259\n",
      "Prob(Omnibus):                  0.001   Jarque-Bera (JB):               14.373\n",
      "Skew:                          -0.726   Prob(JB):                     0.000757\n",
      "Kurtosis:                       3.270   Cond. No.                     1.15e+04\n",
      "==============================================================================\n",
      "\n",
      "Notes:\n",
      "[1] Standard Errors assume that the covariance matrix of the errors is correctly specified.\n",
      "[2] The condition number is large, 1.15e+04. This might indicate that there are\n",
      "strong multicollinearity or other numerical problems.\n"
     ]
    }
   ],
   "source": [
    "# Coefficient Summary\n",
    "# Load trained model\n",
    "model = joblib.load(r\"C:\\Users\\willi\\GitHub\\FPM_Assignment_PY\\models\\house_price_model.pkl\")\n",
    "\n",
    "# Print coefficients\n",
    "print(model.summary())"
   ]
  },
  {
   "cell_type": "code",
   "execution_count": 4,
   "id": "a70706d6",
   "metadata": {},
   "outputs": [
    {
     "data": {
      "image/png": "[encoded data removed]",
      "text/plain": [
       "<Figure size 600x400 with 1 Axes>"
      ]
     },
     "metadata": {},
     "output_type": "display_data"
    }
   ],
   "source": [
    "# RMSE Bar Chart\n",
    "\n",
    "rmse_train = 0.220\n",
    "rmse_test = 0.258\n",
    "\n",
    "# Plot\n",
    "plt.figure(figsize=(6,4))\n",
    "sns.barplot(x=[\"Train\", \"Test\"], y=[rmse_train, rmse_test])\n",
    "plt.title(\"RMSE Comparison (in million Rs)\")\n",
    "plt.ylabel(\"RMSE\")\n",
    "plt.show()\n"
   ]
  },
  {
   "cell_type": "markdown",
   "id": "76cef6f3",
   "metadata": {},
   "source": [
    "## 🔍 Final Interpretation\n",
    "\n",
    "- Area and distance to metro are significant drivers of price.\n",
    "- Schools were not a significant predictor in this case.\n",
    "- The model explains approximately 80% of the variance in price (Adj R²).\n",
    "- RMSE is consistent between train and test sets, indicating a well-generalized model.\n"
   ]
  }
 ],
 "metadata": {
  "kernelspec": {
   "display_name": "ds-env",
   "language": "python",
   "name": "python3"
  },
  "language_info": {
   "codemirror_mode": {
    "name": "ipython",
    "version": 3
   },
   "file_extension": ".py",
   "mimetype": "text/x-python",
   "name": "python",
   "nbconvert_exporter": "python",
   "pygments_lexer": "ipython3",
   "version": "3.10.16"
  }
 },
 "nbformat": 4,
 "nbformat_minor": 5
}
