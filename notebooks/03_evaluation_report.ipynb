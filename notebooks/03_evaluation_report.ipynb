{
 "cells": [
  {
   "cell_type": "code",
   "execution_count": 1,
   "id": "827a1d4a",
   "metadata": {},
   "outputs": [],
   "source": [
    "# 📌 House Price Prediction – Evaluation Report\n",
    "# Author: William Chenecho Phiri\n",
    "# Notebook: 03_Evaluation_Report.ipynb\n",
    "\n",
    "import pandas as pd\n",
    "import matplotlib.pyplot as plt\n",
    "import seaborn as sns\n",
    "import joblib\n",
    "\n",
    "from sklearn.metrics import mean_squared_error\n",
    "import numpy as np\n"
   ]
  },
  {
   "cell_type": "code",
   "execution_count": 11,
   "id": "00c21ded",
   "metadata": {},
   "outputs": [
    {
     "name": "stdout",
     "output_type": "stream",
     "text": [
      "                            OLS Regression Results                            \n",
      "==============================================================================\n",
      "Dep. Variable:                  price   R-squared:                       0.795\n",
      "Model:                            OLS   Adj. R-squared:                  0.792\n",
      "Method:                 Least Squares   F-statistic:                     300.5\n",
      "Date:                Mon, 21 Apr 2025   Prob (F-statistic):           4.58e-54\n",
      "Time:                        10:11:46   Log-Likelihood:                -353.32\n",
      "No. Observations:                 158   AIC:                             712.6\n",
      "Df Residuals:                     155   BIC:                             721.8\n",
      "Df Model:                           2                                         \n",
      "Covariance Type:            nonrobust                                         \n",
      "==============================================================================\n",
      "                 coef    std err          t      P>|t|      [0.025      0.975]\n",
      "------------------------------------------------------------------------------\n",
      "Intercept    -10.6139      1.964     -5.404      0.000     -14.494      -6.734\n",
      "area           0.0391      0.002     21.416      0.000       0.035       0.043\n",
      "distance      -2.0031      0.178    -11.249      0.000      -2.355      -1.651\n",
      "==============================================================================\n",
      "Omnibus:                       16.129   Durbin-Watson:                   2.289\n",
      "Prob(Omnibus):                  0.000   Jarque-Bera (JB):               17.806\n",
      "Skew:                          -0.768   Prob(JB):                     0.000136\n",
      "Kurtosis:                       3.588   Cond. No.                     1.13e+04\n",
      "==============================================================================\n",
      "\n",
      "Notes:\n",
      "[1] Standard Errors assume that the covariance matrix of the errors is correctly specified.\n",
      "[2] The condition number is large, 1.13e+04. This might indicate that there are\n",
      "strong multicollinearity or other numerical problems.\n"
     ]
    }
   ],
   "source": [
    "# Coefficient Summary\n",
    "# Load trained model\n",
    "model3 = joblib.load(r\"C:\\Users\\willi\\GitHub\\FPM_Assignment_PY\\models\\house_price_model.pkl\")\n",
    "\n",
    "# Print coefficients\n",
    "print(model3.summary())"
   ]
  },
  {
   "cell_type": "code",
   "execution_count": 10,
   "id": "a70706d6",
   "metadata": {},
   "outputs": [
    {
     "data": {
      "image/png": "[encoded data removed]",
      "text/plain": [
       "<Figure size 600x400 with 1 Axes>"
      ]
     },
     "metadata": {},
     "output_type": "display_data"
    }
   ],
   "source": [
    "# RMSE Bar Chart\n",
    "\n",
    "rmse_train = 2.264\n",
    "rmse_test = 2.291\n",
    "\n",
    "# Plot\n",
    "plt.figure(figsize=(6,4))\n",
    "sns.barplot(x=[\"Train\", \"Test\"], y=[rmse_train, rmse_test])\n",
    "plt.title(\"RMSE Comparison (in million Rs)\")\n",
    "plt.ylabel(\"RMSE\")\n",
    "plt.show()\n"
   ]
  },
  {
   "cell_type": "markdown",
   "id": "76cef6f3",
   "metadata": {},
   "source": [
    "## 🔍 Final Interpretation\n",
    "\n",
    "- Carpet-area and distance to metro were both significant drivers of price.\n",
    "- Schools within 2km were NOT significant drivers of price.\n",
    "- The model explains approximately 80% of the variance in price (Adj R²).\n",
    "- RMSE is consistent between train and test sets, indicating a well-generalized model.\n"
   ]
  }
 ],
 "metadata": {
  "kernelspec": {
   "display_name": "ds-env",
   "language": "python",
   "name": "python3"
  },
  "language_info": {
   "codemirror_mode": {
    "name": "ipython",
    "version": 3
   },
   "file_extension": ".py",
   "mimetype": "text/x-python",
   "name": "python",
   "nbconvert_exporter": "python",
   "pygments_lexer": "ipython3",
   "version": "3.10.16"
  }
 },
 "nbformat": 4,
 "nbformat_minor": 5
}
