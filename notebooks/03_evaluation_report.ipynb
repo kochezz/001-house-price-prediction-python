{
 "cells": [
  {
   "cell_type": "code",
   "execution_count": 1,
   "id": "827a1d4a",
   "metadata": {},
   "outputs": [],
   "source": [
    "# 📌 House Price Prediction – Evaluation Report\n",
    "# Author: William Chenecho Phiri\n",
    "# Notebook: 03_Evaluation_Report.ipynb\n",
    "\n",
    "import pandas as pd\n",
    "import matplotlib.pyplot as plt\n",
    "import seaborn as sns\n",
    "import joblib\n",
    "\n",
    "from sklearn.metrics import mean_squared_error\n",
    "import numpy as np\n"
   ]
  },
  {
   "cell_type": "code",
   "execution_count": 5,
   "id": "00c21ded",
   "metadata": {},
   "outputs": [
    {
     "name": "stdout",
     "output_type": "stream",
     "text": [
      "                            OLS Regression Results                            \n",
      "==============================================================================\n",
      "Dep. Variable:                  price   R-squared:                       0.794\n",
      "Model:                            OLS   Adj. R-squared:                  0.791\n",
      "Method:                 Least Squares   F-statistic:                     249.0\n",
      "Date:                Sat, 19 Apr 2025   Prob (F-statistic):           3.03e-66\n",
      "Time:                        19:43:17   Log-Likelihood:                -436.96\n",
      "No. Observations:                 198   AIC:                             881.9\n",
      "Df Residuals:                     194   BIC:                             895.1\n",
      "Df Model:                           3                                         \n",
      "Covariance Type:            nonrobust                                         \n",
      "==============================================================================\n",
      "                 coef    std err          t      P>|t|      [0.025      0.975]\n",
      "------------------------------------------------------------------------------\n",
      "Intercept     -9.5423      1.744     -5.472      0.000     -12.982      -6.103\n",
      "area           0.0346      0.002     17.111      0.000       0.031       0.039\n",
      "distance      -1.8704      0.162    -11.564      0.000      -2.189      -1.551\n",
      "schools        1.3187      0.371      3.552      0.000       0.586       2.051\n",
      "==============================================================================\n",
      "Omnibus:                       12.632   Durbin-Watson:                   1.558\n",
      "Prob(Omnibus):                  0.002   Jarque-Bera (JB):               13.367\n",
      "Skew:                          -0.629   Prob(JB):                      0.00125\n",
      "Kurtosis:                       3.191   Cond. No.                     1.16e+04\n",
      "==============================================================================\n",
      "\n",
      "Notes:\n",
      "[1] Standard Errors assume that the covariance matrix of the errors is correctly specified.\n",
      "[2] The condition number is large, 1.16e+04. This might indicate that there are\n",
      "strong multicollinearity or other numerical problems.\n"
     ]
    }
   ],
   "source": [
    "# Coefficient Summary\n",
    "# Load trained model\n",
    "model = joblib.load(r\"C:\\Users\\willi\\GitHub\\FPM_Assignment_PY\\models\\house_price_model.pkl\")\n",
    "\n",
    "# Print coefficients\n",
    "print(model.summary())"
   ]
  },
  {
   "cell_type": "code",
   "execution_count": 9,
   "id": "a70706d6",
   "metadata": {},
   "outputs": [
    {
     "data": {
      "image/png": "[encoded data removed]",
      "text/plain": [
       "<Figure size 600x400 with 1 Axes>"
      ]
     },
     "metadata": {},
     "output_type": "display_data"
    }
   ],
   "source": [
    "# RMSE Bar Chart\n",
    "\n",
    "rmse_train = 2.193\n",
    "rmse_test = 2.222\n",
    "\n",
    "# Plot\n",
    "plt.figure(figsize=(6,4))\n",
    "sns.barplot(x=[\"Train\", \"Test\"], y=[rmse_train, rmse_test])\n",
    "plt.title(\"RMSE Comparison (in million Rs)\")\n",
    "plt.ylabel(\"RMSE\")\n",
    "plt.show()\n"
   ]
  },
  {
   "cell_type": "markdown",
   "id": "76cef6f3",
   "metadata": {},
   "source": [
    "## 🔍 Final Interpretation\n",
    "\n",
    "- Carpet-area, distance to metro and schools within 2km were all significant drivers of price.\n",
    "- The model explains approximately 80% of the variance in price (Adj R²).\n",
    "- RMSE is consistent between train and test sets, indicating a well-generalized model.\n"
   ]
  }
 ],
 "metadata": {
  "kernelspec": {
   "display_name": "ds-env",
   "language": "python",
   "name": "python3"
  },
  "language_info": {
   "codemirror_mode": {
    "name": "ipython",
    "version": 3
   },
   "file_extension": ".py",
   "mimetype": "text/x-python",
   "name": "python",
   "nbconvert_exporter": "python",
   "pygments_lexer": "ipython3",
   "version": "3.10.16"
  }
 },
 "nbformat": 4,
 "nbformat_minor": 5
}
